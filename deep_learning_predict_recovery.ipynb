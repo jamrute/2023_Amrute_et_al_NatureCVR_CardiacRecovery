{
 "cells": [
  {
   "cell_type": "code",
   "execution_count": 1,
   "metadata": {},
   "outputs": [
    {
     "name": "stderr",
     "output_type": "stream",
     "text": [
      "\n",
      "Bad key text.latex.unicode in file /opt/anaconda3/lib/python3.7/site-packages/matplotlib/mpl-data/stylelib/_classic_test.mplstyle, line 112 ('text.latex.unicode : False # use \"ucs\" and \"inputenc\" LaTeX packages for handling')\n",
      "You probably need to get an updated matplotlibrc file from\n",
      "https://github.com/matplotlib/matplotlib/blob/v3.4.3/matplotlibrc.template\n",
      "or from the matplotlib source distribution\n",
      "\n",
      "Bad key savefig.frameon in file /opt/anaconda3/lib/python3.7/site-packages/matplotlib/mpl-data/stylelib/_classic_test.mplstyle, line 423 ('savefig.frameon : True')\n",
      "You probably need to get an updated matplotlibrc file from\n",
      "https://github.com/matplotlib/matplotlib/blob/v3.4.3/matplotlibrc.template\n",
      "or from the matplotlib source distribution\n",
      "\n",
      "Bad key pgf.debug in file /opt/anaconda3/lib/python3.7/site-packages/matplotlib/mpl-data/stylelib/_classic_test.mplstyle, line 444 ('pgf.debug           : False')\n",
      "You probably need to get an updated matplotlibrc file from\n",
      "https://github.com/matplotlib/matplotlib/blob/v3.4.3/matplotlibrc.template\n",
      "or from the matplotlib source distribution\n",
      "\n",
      "Bad key verbose.level in file /opt/anaconda3/lib/python3.7/site-packages/matplotlib/mpl-data/stylelib/_classic_test.mplstyle, line 475 ('verbose.level  : silent      # one of silent, helpful, debug, debug-annoying')\n",
      "You probably need to get an updated matplotlibrc file from\n",
      "https://github.com/matplotlib/matplotlib/blob/v3.4.3/matplotlibrc.template\n",
      "or from the matplotlib source distribution\n",
      "\n",
      "Bad key verbose.fileo in file /opt/anaconda3/lib/python3.7/site-packages/matplotlib/mpl-data/stylelib/_classic_test.mplstyle, line 476 ('verbose.fileo  : sys.stdout  # a log filename, sys.stdout or sys.stderr')\n",
      "You probably need to get an updated matplotlibrc file from\n",
      "https://github.com/matplotlib/matplotlib/blob/v3.4.3/matplotlibrc.template\n",
      "or from the matplotlib source distribution\n",
      "In /opt/anaconda3/lib/python3.7/site-packages/matplotlib/mpl-data/stylelib/_classic_test.mplstyle: \n",
      "The text.latex.preview rcparam was deprecated in Matplotlib 3.3 and will be removed two minor releases later.\n",
      "In /opt/anaconda3/lib/python3.7/site-packages/matplotlib/mpl-data/stylelib/_classic_test.mplstyle: \n",
      "The mathtext.fallback_to_cm rcparam was deprecated in Matplotlib 3.3 and will be removed two minor releases later.\n",
      "In /opt/anaconda3/lib/python3.7/site-packages/matplotlib/mpl-data/stylelib/_classic_test.mplstyle: Support for setting the 'mathtext.fallback_to_cm' rcParam is deprecated since 3.3 and will be removed two minor releases later; use 'mathtext.fallback : 'cm' instead.\n",
      "In /opt/anaconda3/lib/python3.7/site-packages/matplotlib/mpl-data/stylelib/_classic_test.mplstyle: \n",
      "The validate_bool_maybe_none function was deprecated in Matplotlib 3.3 and will be removed two minor releases later.\n",
      "In /opt/anaconda3/lib/python3.7/site-packages/matplotlib/mpl-data/stylelib/_classic_test.mplstyle: \n",
      "The savefig.jpeg_quality rcparam was deprecated in Matplotlib 3.3 and will be removed two minor releases later.\n",
      "In /opt/anaconda3/lib/python3.7/site-packages/matplotlib/mpl-data/stylelib/_classic_test.mplstyle: \n",
      "The keymap.all_axes rcparam was deprecated in Matplotlib 3.3 and will be removed two minor releases later.\n",
      "In /opt/anaconda3/lib/python3.7/site-packages/matplotlib/mpl-data/stylelib/_classic_test.mplstyle: \n",
      "The animation.avconv_path rcparam was deprecated in Matplotlib 3.3 and will be removed two minor releases later.\n",
      "In /opt/anaconda3/lib/python3.7/site-packages/matplotlib/mpl-data/stylelib/_classic_test.mplstyle: \n",
      "The animation.avconv_args rcparam was deprecated in Matplotlib 3.3 and will be removed two minor releases later.\n"
     ]
    }
   ],
   "source": [
    "import matplotlib.pyplot as plt\n",
    "import numpy as np\n",
    "import pandas as pd\n",
    "from scipy.stats import pearsonr\n",
    "import seaborn as sns\n",
    "# Make numpy printouts easier to read.\n",
    "np.set_printoptions(precision=3, suppress=True)"
   ]
  },
  {
   "cell_type": "code",
   "execution_count": 2,
   "metadata": {},
   "outputs": [],
   "source": [
    "meta_data = pd.read_csv('./Fibroblast_meta.csv', index_col=0)\n",
    "meta_data = meta_data.sort_index()\n",
    "\n",
    "sct_normalized_matrix = \"./Fibroblast_RNA_scaled.txt\"\n",
    "counts = pd.read_csv(sct_normalized_matrix, sep=',', index_col=0).transpose()\n",
    "df = counts.sort_index()"
   ]
  },
  {
   "cell_type": "code",
   "execution_count": 3,
   "metadata": {},
   "outputs": [],
   "source": [
    "top_genes = pd.read_csv('./runx1_targets.csv', index_col=0)"
   ]
  },
  {
   "cell_type": "code",
   "execution_count": 4,
   "metadata": {},
   "outputs": [],
   "source": [
    "df = df[list(set(top_genes.index).intersection(set(df.columns)))]"
   ]
  },
  {
   "cell_type": "code",
   "execution_count": 5,
   "metadata": {},
   "outputs": [],
   "source": [
    "df['Recovery'] = meta_data['condition']\n",
    "df['Recovery'] = [1 if Recovery == \"Rpre\" else 0 for Recovery in df['Recovery']]"
   ]
  },
  {
   "cell_type": "code",
   "execution_count": 6,
   "metadata": {},
   "outputs": [],
   "source": [
    "df = df.dropna()"
   ]
  },
  {
   "cell_type": "code",
   "execution_count": 7,
   "metadata": {},
   "outputs": [],
   "source": [
    "from sklearn.model_selection import train_test_split\n",
    "\n",
    "X = df.drop('Recovery', axis=1)\n",
    "y = df['Recovery']\n",
    "\n",
    "X_train, X_test, y_train, y_test = train_test_split(\n",
    "    X, y, \n",
    "    test_size=0.3, random_state=42\n",
    ")"
   ]
  },
  {
   "cell_type": "code",
   "execution_count": 8,
   "metadata": {},
   "outputs": [],
   "source": [
    "from sklearn.preprocessing import StandardScaler\n",
    "\n",
    "scaler = StandardScaler()\n",
    "X_train_scaled = scaler.fit_transform(X_train)\n",
    "X_test_scaled = scaler.transform(X_test)"
   ]
  },
  {
   "cell_type": "code",
   "execution_count": 9,
   "metadata": {},
   "outputs": [],
   "source": [
    "import tensorflow as tf\n",
    "from tensorflow import keras\n",
    "from tensorflow.keras import layers\n",
    "from tensorflow.keras import regularizers\n",
    "model = keras.Sequential([\n",
    "     keras.layers.Flatten(input_shape=(len(df.columns) - 1,)),\n",
    "     keras.layers.Dense(16, activation=tf.nn.relu, kernel_regularizer=regularizers.l2(0.001)),\n",
    "     layers.Dropout(0.5),\n",
    "     keras.layers.Dense(16, activation=tf.nn.relu, kernel_regularizer=regularizers.l2(0.001)),\n",
    "     layers.Dropout(0.5),\n",
    "     keras.layers.Dense(1, activation=tf.nn.sigmoid),])"
   ]
  },
  {
   "cell_type": "code",
   "execution_count": 10,
   "metadata": {
    "scrolled": true
   },
   "outputs": [
    {
     "name": "stdout",
     "output_type": "stream",
     "text": [
      "Epoch 1/50\n",
      "7776/7776 [==============================] - 7s 882us/step - loss: 0.7920 - accuracy: 0.7018 - auc: 0.7837\n",
      "Epoch 2/50\n",
      "7776/7776 [==============================] - 6s 823us/step - loss: 0.7249 - accuracy: 0.8353 - auc: 0.9092\n",
      "Epoch 3/50\n",
      "7776/7776 [==============================] - 6s 796us/step - loss: 0.7060 - accuracy: 0.8618 - auc: 0.9323\n",
      "Epoch 4/50\n",
      "7776/7776 [==============================] - 6s 814us/step - loss: 0.6823 - accuracy: 0.8805 - auc: 0.9488\n",
      "Epoch 5/50\n",
      "7776/7776 [==============================] - 7s 865us/step - loss: 0.6825 - accuracy: 0.8900 - auc: 0.9527\n",
      "Epoch 6/50\n",
      "7776/7776 [==============================] - 6s 792us/step - loss: 0.7056 - accuracy: 0.8835 - auc: 0.9501\n",
      "Epoch 7/50\n",
      "7776/7776 [==============================] - 6s 792us/step - loss: 0.6802 - accuracy: 0.8891 - auc: 0.9547\n",
      "Epoch 8/50\n",
      "7776/7776 [==============================] - 7s 861us/step - loss: 0.6823 - accuracy: 0.8924 - auc: 0.9546\n",
      "Epoch 9/50\n",
      "7776/7776 [==============================] - 6s 789us/step - loss: 0.6923 - accuracy: 0.8929 - auc: 0.9531\n",
      "Epoch 10/50\n",
      "7776/7776 [==============================] - 6s 809us/step - loss: 0.6868 - accuracy: 0.8906 - auc: 0.9542\n",
      "Epoch 11/50\n",
      "7776/7776 [==============================] - 6s 815us/step - loss: 0.6937 - accuracy: 0.8908 - auc: 0.9531\n",
      "Epoch 12/50\n",
      "7776/7776 [==============================] - 6s 803us/step - loss: 0.7000 - accuracy: 0.8939 - auc: 0.9529\n",
      "Epoch 13/50\n",
      "7776/7776 [==============================] - 6s 816us/step - loss: 0.6950 - accuracy: 0.8927 - auc: 0.9549\n",
      "Epoch 14/50\n",
      "7776/7776 [==============================] - 6s 810us/step - loss: 0.6800 - accuracy: 0.8970 - auc: 0.9570\n",
      "Epoch 15/50\n",
      "7776/7776 [==============================] - 6s 799us/step - loss: 0.6885 - accuracy: 0.8909 - auc: 0.9553\n",
      "Epoch 16/50\n",
      "7776/7776 [==============================] - 6s 801us/step - loss: 0.6980 - accuracy: 0.8903 - auc: 0.9538\n",
      "Epoch 17/50\n",
      "7776/7776 [==============================] - 6s 798us/step - loss: 0.6936 - accuracy: 0.8939 - auc: 0.9534\n",
      "Epoch 18/50\n",
      "7776/7776 [==============================] - 6s 802us/step - loss: 0.6972 - accuracy: 0.8877 - auc: 0.9518\n",
      "Epoch 19/50\n",
      "7776/7776 [==============================] - 6s 803us/step - loss: 0.6648 - accuracy: 0.9011 - auc: 0.9588\n",
      "Epoch 20/50\n",
      "7776/7776 [==============================] - 6s 802us/step - loss: 0.6757 - accuracy: 0.8900 - auc: 0.9560\n",
      "Epoch 21/50\n",
      "7776/7776 [==============================] - 6s 814us/step - loss: 0.6867 - accuracy: 0.8904 - auc: 0.9560\n",
      "Epoch 22/50\n",
      "7776/7776 [==============================] - 6s 803us/step - loss: 0.6932 - accuracy: 0.8942 - auc: 0.9550\n",
      "Epoch 23/50\n",
      "7776/7776 [==============================] - 6s 802us/step - loss: 0.6766 - accuracy: 0.8965 - auc: 0.9563\n",
      "Epoch 24/50\n",
      "7776/7776 [==============================] - 6s 809us/step - loss: 0.6916 - accuracy: 0.8908 - auc: 0.9533\n",
      "Epoch 25/50\n",
      "7776/7776 [==============================] - 6s 810us/step - loss: 0.6951 - accuracy: 0.8960 - auc: 0.9543\n",
      "Epoch 26/50\n",
      "7776/7776 [==============================] - 7s 878us/step - loss: 0.6800 - accuracy: 0.8929 - auc: 0.9552\n",
      "Epoch 27/50\n",
      "7776/7776 [==============================] - 6s 813us/step - loss: 0.6833 - accuracy: 0.8983 - auc: 0.9581\n",
      "Epoch 28/50\n",
      "7776/7776 [==============================] - 6s 801us/step - loss: 0.6933 - accuracy: 0.8971 - auc: 0.9563\n",
      "Epoch 29/50\n",
      "7776/7776 [==============================] - 6s 809us/step - loss: 0.6946 - accuracy: 0.8921 - auc: 0.9544\n",
      "Epoch 30/50\n",
      "7776/7776 [==============================] - 6s 804us/step - loss: 0.6974 - accuracy: 0.8953 - auc: 0.9535\n",
      "Epoch 31/50\n",
      "7776/7776 [==============================] - 6s 800us/step - loss: 0.6952 - accuracy: 0.8900 - auc: 0.9533\n",
      "Epoch 32/50\n",
      "7776/7776 [==============================] - 6s 816us/step - loss: 0.6867 - accuracy: 0.8975 - auc: 0.9559\n",
      "Epoch 33/50\n",
      "7776/7776 [==============================] - 6s 812us/step - loss: 0.6801 - accuracy: 0.9001 - auc: 0.9580\n",
      "Epoch 34/50\n",
      "7776/7776 [==============================] - 6s 807us/step - loss: 0.6928 - accuracy: 0.8907 - auc: 0.9527\n",
      "Epoch 35/50\n",
      "7776/7776 [==============================] - 6s 812us/step - loss: 0.6773 - accuracy: 0.8966 - auc: 0.9574\n",
      "Epoch 36/50\n",
      "7776/7776 [==============================] - 6s 801us/step - loss: 0.6760 - accuracy: 0.8960 - auc: 0.9555\n",
      "Epoch 37/50\n",
      "7776/7776 [==============================] - 6s 804us/step - loss: 0.6883 - accuracy: 0.8957 - auc: 0.9543\n",
      "Epoch 38/50\n",
      "7776/7776 [==============================] - 6s 811us/step - loss: 0.6955 - accuracy: 0.8909 - auc: 0.9541\n",
      "Epoch 39/50\n",
      "7776/7776 [==============================] - 6s 805us/step - loss: 0.6850 - accuracy: 0.8953 - auc: 0.9568\n",
      "Epoch 40/50\n",
      "7776/7776 [==============================] - 6s 803us/step - loss: 0.6882 - accuracy: 0.8939 - auc: 0.9562\n",
      "Epoch 41/50\n",
      "7776/7776 [==============================] - 7s 920us/step - loss: 0.6965 - accuracy: 0.8960 - auc: 0.9554\n",
      "Epoch 42/50\n",
      "7776/7776 [==============================] - 7s 931us/step - loss: 0.6920 - accuracy: 0.8963 - auc: 0.9554\n",
      "Epoch 43/50\n",
      "7776/7776 [==============================] - 7s 855us/step - loss: 0.6932 - accuracy: 0.8938 - auc: 0.9536\n",
      "Epoch 44/50\n",
      "7776/7776 [==============================] - 6s 770us/step - loss: 0.6900 - accuracy: 0.8984 - auc: 0.9567\n",
      "Epoch 45/50\n",
      "7776/7776 [==============================] - 6s 772us/step - loss: 0.6843 - accuracy: 0.8970 - auc: 0.9569\n",
      "Epoch 46/50\n",
      "7776/7776 [==============================] - 6s 775us/step - loss: 0.6986 - accuracy: 0.8947 - auc: 0.9535\n",
      "Epoch 47/50\n",
      "7776/7776 [==============================] - 6s 764us/step - loss: 0.6873 - accuracy: 0.8915 - auc: 0.9547\n",
      "Epoch 48/50\n",
      "7776/7776 [==============================] - 6s 779us/step - loss: 0.6747 - accuracy: 0.8983 - auc: 0.9578\n",
      "Epoch 49/50\n",
      "7776/7776 [==============================] - 6s 771us/step - loss: 0.6758 - accuracy: 0.8978 - auc: 0.9579\n",
      "Epoch 50/50\n",
      "7776/7776 [==============================] - 6s 768us/step - loss: 0.6831 - accuracy: 0.8888 - auc: 0.9548\n"
     ]
    },
    {
     "data": {
      "text/plain": [
       "<keras.callbacks.History at 0x7fcbba657e90>"
      ]
     },
     "execution_count": 10,
     "metadata": {},
     "output_type": "execute_result"
    }
   ],
   "source": [
    "model.compile(optimizer='adam',\n",
    "              loss='binary_crossentropy',\n",
    "              metrics=['accuracy', tf.keras.metrics.AUC(from_logits=True)])\n",
    "\n",
    "model.fit(X_train, y_train, epochs=50, batch_size=1)"
   ]
  },
  {
   "cell_type": "code",
   "execution_count": 11,
   "metadata": {},
   "outputs": [
    {
     "name": "stdout",
     "output_type": "stream",
     "text": [
      "105/105 [==============================] - 0s 913us/step - loss: 0.7241 - accuracy: 0.8725 - auc: 0.9429\n"
     ]
    },
    {
     "data": {
      "text/plain": [
       "[0.7241125106811523, 0.8724872469902039, 0.9428598880767822]"
      ]
     },
     "execution_count": 11,
     "metadata": {},
     "output_type": "execute_result"
    }
   ],
   "source": [
    "model.evaluate(X_test, y_test)"
   ]
  },
  {
   "cell_type": "code",
   "execution_count": 12,
   "metadata": {},
   "outputs": [],
   "source": [
    "from sklearn.metrics import roc_curve\n",
    "y_pred_keras = model.predict(X_test).ravel()\n",
    "fpr_keras, tpr_keras, thresholds_keras = roc_curve(y_test, y_pred_keras)"
   ]
  },
  {
   "cell_type": "code",
   "execution_count": 13,
   "metadata": {},
   "outputs": [],
   "source": [
    "from sklearn.metrics import auc\n",
    "auc_keras = auc(fpr_keras, tpr_keras)"
   ]
  },
  {
   "cell_type": "code",
   "execution_count": 14,
   "metadata": {},
   "outputs": [],
   "source": [
    "from sklearn.ensemble import RandomForestClassifier\n",
    "# Supervised transformation based on random forests\n",
    "rf = RandomForestClassifier(max_depth=3, n_estimators=10)\n",
    "rf.fit(X_train, y_train)\n",
    "\n",
    "y_pred_rf = rf.predict_proba(X_test)[:, 1]\n",
    "fpr_rf, tpr_rf, thresholds_rf = roc_curve(y_test, y_pred_rf)\n",
    "auc_rf = auc(fpr_rf, tpr_rf)"
   ]
  },
  {
   "cell_type": "code",
   "execution_count": 15,
   "metadata": {},
   "outputs": [
    {
     "data": {
      "image/png": "[encoded data removed]",
      "text/plain": [
       "<Figure size 432x288 with 1 Axes>"
      ]
     },
     "metadata": {
      "needs_background": "light"
     },
     "output_type": "display_data"
    }
   ],
   "source": [
    "plt.figure(1)\n",
    "plt.plot([0, 1], [0, 1], 'k--')\n",
    "plt.plot(fpr_keras, tpr_keras, label='Keras (area = {:.3f})'.format(auc_keras))\n",
    "plt.plot(fpr_rf, tpr_rf, label='RF (area = {:.3f})'.format(auc_rf))\n",
    "plt.xlabel('False positive rate')\n",
    "plt.ylabel('True positive rate')\n",
    "plt.title('ROC curve')\n",
    "plt.legend(loc='best')\n",
    "plt.show()"
   ]
  },
  {
   "cell_type": "code",
   "execution_count": null,
   "metadata": {},
   "outputs": [],
   "source": []
  },
  {
   "cell_type": "code",
   "execution_count": null,
   "metadata": {},
   "outputs": [],
   "source": []
  },
  {
   "cell_type": "code",
   "execution_count": null,
   "metadata": {},
   "outputs": [],
   "source": []
  },
  {
   "cell_type": "code",
   "execution_count": null,
   "metadata": {},
   "outputs": [],
   "source": []
  }
 ],
 "metadata": {
  "kernelspec": {
   "display_name": "Python 3 (ipykernel)",
   "language": "python",
   "name": "python3"
  },
  "language_info": {
   "codemirror_mode": {
    "name": "ipython",
    "version": 3
   },
   "file_extension": ".py",
   "mimetype": "text/x-python",
   "name": "python",
   "nbconvert_exporter": "python",
   "pygments_lexer": "ipython3",
   "version": "3.9.13"
  }
 },
 "nbformat": 4,
 "nbformat_minor": 4
}
